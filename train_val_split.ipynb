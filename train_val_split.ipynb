{
 "cells": [
  {
   "cell_type": "code",
   "execution_count": 119,
   "id": "9ffc0dfc-95ea-4f20-98fd-6974670c9232",
   "metadata": {},
   "outputs": [],
   "source": [
    "import pandas as pd\n",
    "import numpy as np\n",
    "import os\n",
    "import ast"
   ]
  },
  {
   "cell_type": "code",
   "execution_count": 120,
   "id": "90401113-b383-4113-aec0-46e5d5ff0cca",
   "metadata": {},
   "outputs": [],
   "source": [
    "bb_df = pd.read_csv('relative_bb_size.csv')"
   ]
  },
  {
   "cell_type": "code",
   "execution_count": 121,
   "id": "0720d9ab-0294-4b32-87c6-e47398a68741",
   "metadata": {},
   "outputs": [],
   "source": [
    "#check in the sample folder\n",
    "path = './sample_ATLAS/'"
   ]
  },
  {
   "cell_type": "code",
   "execution_count": 122,
   "id": "c92bb4cc-891a-4bc9-9f79-186cc38b552f",
   "metadata": {},
   "outputs": [],
   "source": [
    "def reform_name(original_list):\n",
    "    new_list = []\n",
    "    for item in original_list:\n",
    "        new_item = item.split('_')[0]\n",
    "        new_list.append(new_item)\n",
    "    return new_list"
   ]
  },
  {
   "cell_type": "code",
   "execution_count": 123,
   "id": "b09376a1-403d-4ab8-bf56-244a3a706e6b",
   "metadata": {},
   "outputs": [],
   "source": [
    "train_list = os.listdir(path + 'images/train/')\n",
    "train_list = [x for x in train_list if not 'DS_Store' in x]\n",
    "train_list = reform_name(train_list)\n",
    "\n",
    "val_list = os.listdir(path + 'images/val/')\n",
    "val_list = [x for x in val_list if not 'DS_Store' in x]\n",
    "val_list = reform_name(val_list)"
   ]
  },
  {
   "cell_type": "code",
   "execution_count": 124,
   "id": "95b523a7-c15d-41d7-9b01-cd88e2d640ca",
   "metadata": {},
   "outputs": [],
   "source": [
    "train_df = bb_df[bb_df['patient_name'].isin(train_list)]\n",
    "val_df = bb_df[bb_df['patient_name'].isin(val_list)]"
   ]
  },
  {
   "cell_type": "code",
   "execution_count": 125,
   "id": "7e864047-f3c5-4c67-a268-2520cede0420",
   "metadata": {},
   "outputs": [],
   "source": [
    "#export train labels\n",
    "def export_txt(dest_path, df):\n",
    "    for index, row in df.iterrows():\n",
    "        #print(row['patient_name'])\n",
    "        #print(ast.literal_eval(row['relative_bb_size']))\n",
    "        filename = dest_path + f\"{row['patient_name']}_ses-1_space-MNI152NLin2009aSym_T1w.txt\"\n",
    "        \n",
    "        with open(filename, 'w') as f:\n",
    "            f.write(f\"{row['class']} \")\n",
    "            for item in ast.literal_eval(row['relative_bb_size']):\n",
    "                f.write(f\"{item} \")\n",
    "            "
   ]
  },
  {
   "cell_type": "code",
   "execution_count": 126,
   "id": "e1b8f9c9-dfa7-4c50-b75f-0fb4b8df5e83",
   "metadata": {},
   "outputs": [],
   "source": [
    "export_txt(path + 'labels/train/', train_df)\n",
    "export_txt(path + 'labels/val/', val_df)"
   ]
  },
  {
   "cell_type": "code",
   "execution_count": null,
   "id": "2fbc7a3f-0ed8-4321-a2b6-01183288a693",
   "metadata": {},
   "outputs": [],
   "source": []
  }
 ],
 "metadata": {
  "kernelspec": {
   "display_name": "Python 3 (ipykernel)",
   "language": "python",
   "name": "python3"
  },
  "language_info": {
   "codemirror_mode": {
    "name": "ipython",
    "version": 3
   },
   "file_extension": ".py",
   "mimetype": "text/x-python",
   "name": "python",
   "nbconvert_exporter": "python",
   "pygments_lexer": "ipython3",
   "version": "3.11.7"
  }
 },
 "nbformat": 4,
 "nbformat_minor": 5
}
