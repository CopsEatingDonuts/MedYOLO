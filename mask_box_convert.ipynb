{
 "cells": [
  {
   "cell_type": "code",
   "execution_count": 1,
   "id": "75f05110-f4cb-4385-8a52-9cd02e717a48",
   "metadata": {},
   "outputs": [],
   "source": [
    "import os\n",
    "import SimpleITK as sitk\n",
    "import numpy as np\n",
    "import pandas as pd"
   ]
  },
  {
   "cell_type": "code",
   "execution_count": 2,
   "id": "625f54b2-b1a5-4eb7-b369-c4068eafcbfb",
   "metadata": {},
   "outputs": [],
   "source": [
    "def drop_by_extension(my_list, extension):\n",
    "    filtered_list = []\n",
    "    for item in my_list:\n",
    "        if not item.endswith(extension.lower()):\n",
    "            filtered_list.append(item)\n",
    "    return filtered_list"
   ]
  },
  {
   "cell_type": "code",
   "execution_count": 3,
   "id": "c8806ea0-6a39-414e-8ff9-c63d48c5dc87",
   "metadata": {},
   "outputs": [],
   "source": [
    "def get_scan_mask(root, patient):\n",
    "    dir = root + patient + '/ses-1/anat/'\n",
    "    dummy = os.listdir(dir)\n",
    "\n",
    "    scan = dummy[np.argmax(['T1w' in x for x in dummy])]\n",
    "    mask = dummy[np.argmax(['mask' in x for x in dummy])]\n",
    "\n",
    "    scan = dir + scan\n",
    "    mask = dir + mask\n",
    "\n",
    "    reader = sitk.ImageFileReader()\n",
    "    reader.SetImageIO(\"NiftiImageIO\")\n",
    "\n",
    "    reader.SetFileName(scan)\n",
    "    scan = reader.Execute()\n",
    "\n",
    "    reader.SetFileName(mask)\n",
    "    mask = reader.Execute()\n",
    "\n",
    "    return (scan, mask)"
   ]
  },
  {
   "cell_type": "code",
   "execution_count": 4,
   "id": "01dcd0c7-4444-4443-bf01-1bbd856e8d28",
   "metadata": {},
   "outputs": [],
   "source": [
    "def get_bound_box(input_mask):\n",
    "    #reader = sitk.ImageFileReader()\n",
    "    caster = sitk.CastImageFilter()\n",
    "    lsif = sitk.LabelShapeStatisticsImageFilter()\n",
    "    \n",
    "    caster.SetOutputPixelType(sitk.sitkInt8)\n",
    "    input_mask_int = caster.Execute(input_mask)\n",
    "    \n",
    "    lsif.Execute(input_mask_int)\n",
    "\n",
    "    try:\n",
    "        boundingBox = np.array(lsif.GetBoundingBox(1))\n",
    "\n",
    "    except:\n",
    "        boundingBox = np.array([]) #return nothing\n",
    "    \n",
    "    return boundingBox"
   ]
  },
  {
   "cell_type": "code",
   "execution_count": 5,
   "id": "efbb6f18-b9b8-4488-8bda-0dc290e7c845",
   "metadata": {},
   "outputs": [],
   "source": [
    "def relative_center_size(scan, bound_box):\n",
    "    scan_dim = scan.GetSize()\n",
    "    #print(scan_dim, bound_box)\n",
    "    \n",
    "    x_len_bb = bound_box[3]\n",
    "    y_len_bb = bound_box[4]\n",
    "    z_len_bb = bound_box[5]\n",
    "\n",
    "    x_len_scan = scan_dim[0]\n",
    "    y_len_scan = scan_dim[1]\n",
    "    z_len_scan = scan_dim[2]\n",
    "\n",
    "    x_frac_len = x_len_bb / x_len_scan\n",
    "    y_frac_len = y_len_bb / y_len_scan\n",
    "    z_frac_len = z_len_bb / z_len_scan\n",
    "\n",
    "    x_center_bb = bound_box[0] + x_len_bb/2\n",
    "    y_center_bb = bound_box[1] + y_len_bb/2\n",
    "    z_center_bb = bound_box[2] + y_len_bb/2\n",
    "\n",
    "    x_frac_cen = x_center_bb / x_len_scan\n",
    "    y_frac_cen = y_center_bb / y_len_scan\n",
    "    z_frac_cen = z_center_bb / z_len_scan\n",
    "\n",
    "    #print(x_frac_len, y_frac_len, z_frac_len)\n",
    "    #print(x_frac_cen, y_frac_cen, z_frac_cen)\n",
    "\n",
    "    return np.array([z_frac_cen, x_frac_cen, y_frac_cen, z_frac_len, x_frac_len, y_frac_len])\n"
   ]
  },
  {
   "cell_type": "code",
   "execution_count": 6,
   "id": "3a2e4813-826e-49cf-a7e6-7b3ff2a2343b",
   "metadata": {
    "scrolled": true
   },
   "outputs": [],
   "source": [
    "path = '/Volumes/Ex_SSD_2/ATLAS/ATLAS_2/Training/'\n",
    "\n",
    "center_list = os.listdir(path)\n",
    "center_list = drop_by_extension(center_list, 'json')\n",
    "\n",
    "bb_list=[]\n",
    "columns = ['patient_name', 'scan_dimensons', 'class', 'bb_dimensions', 'relative_bb_size']\n",
    "\n",
    "for center in center_list:\n",
    "    patient_list = os.listdir(path + center + '/')\n",
    "    patient_list = drop_by_extension(patient_list, 'json')\n",
    "    \n",
    "    for patient in patient_list:\n",
    "        scan = get_scan_mask(path + center + '/', patient)[0]\n",
    "        mask = get_scan_mask(path + center + '/', patient)[1]\n",
    "        bb = get_bound_box(mask)\n",
    "\n",
    "        #bb format [xstart, ystart, zstart, xsize, ysize, zsize]\n",
    "\n",
    "        if bb.size == 0:\n",
    "            continue\n",
    "\n",
    "        \n",
    "        #print(patient, scan.GetSize(), bb, relative_center_size(scan, bb))\n",
    "        bb_list.append(pd.Series([patient, scan.GetSize(), 1, bb, relative_center_size(scan, bb)], index=columns))\n",
    "\n",
    "bb_df = pd.DataFrame(bb_list)\n",
    "bb_df.to_csv('relative_bb_size.csv')"
   ]
  },
  {
   "cell_type": "code",
   "execution_count": null,
   "id": "8385cad3-6247-49f1-893f-24f0fe12af23",
   "metadata": {},
   "outputs": [],
   "source": []
  }
 ],
 "metadata": {
  "kernelspec": {
   "display_name": "Python 3 (ipykernel)",
   "language": "python",
   "name": "python3"
  },
  "language_info": {
   "codemirror_mode": {
    "name": "ipython",
    "version": 3
   },
   "file_extension": ".py",
   "mimetype": "text/x-python",
   "name": "python",
   "nbconvert_exporter": "python",
   "pygments_lexer": "ipython3",
   "version": "3.11.7"
  }
 },
 "nbformat": 4,
 "nbformat_minor": 5
}
