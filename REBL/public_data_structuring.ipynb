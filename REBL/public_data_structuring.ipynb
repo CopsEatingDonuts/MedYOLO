{
 "cells": [
  {
   "cell_type": "code",
   "execution_count": 14,
   "id": "5ceb4978-5409-450f-83ca-47668f49b886",
   "metadata": {},
   "outputs": [],
   "source": [
    "import numpy as np\n",
    "import SimpleITK as sitk\n",
    "import matplotlib.pyplot as plt\n",
    "import os\n",
    "\n",
    "path = '/Volumes/Ex_SSD_2/ISLES/ISLES-2022/'"
   ]
  },
  {
   "cell_type": "code",
   "execution_count": 15,
   "id": "a41c3826-097f-4d76-b2e9-c6112a2241ff",
   "metadata": {},
   "outputs": [],
   "source": [
    "strokes = os.listdir(path)\n",
    "strokes.remove('README')\n",
    "strokes.remove('LICENSE')\n",
    "strokes.remove('derivatives')\n",
    "strokes = [x for x in strokes if '.' not in x]\n",
    "\n",
    "path_derivative = path + 'derivatives/'\n",
    "derivatives = os.listdir(path_derivative)\n",
    "derivatives = [x for x in derivatives if '.' not in x]"
   ]
  },
  {
   "cell_type": "code",
   "execution_count": 20,
   "id": "58b4f196-607c-4f4e-81ce-1e909c048c3a",
   "metadata": {},
   "outputs": [
    {
     "data": {
      "text/plain": [
       "True"
      ]
     },
     "execution_count": 20,
     "metadata": {},
     "output_type": "execute_result"
    }
   ],
   "source": [
    "strokes == derivatives"
   ]
  },
  {
   "cell_type": "code",
   "execution_count": 21,
   "id": "8b459f3d-c0f9-4793-91a0-760facfdfe14",
   "metadata": {},
   "outputs": [
    {
     "data": {
      "text/plain": [
       "(['sub-strokecase0140',\n",
       "  'sub-strokecase0221',\n",
       "  'sub-strokecase0023',\n",
       "  'sub-strokecase0104',\n",
       "  'sub-strokecase0005'],\n",
       " ['sub-strokecase0140',\n",
       "  'sub-strokecase0221',\n",
       "  'sub-strokecase0023',\n",
       "  'sub-strokecase0104',\n",
       "  'sub-strokecase0005'])"
      ]
     },
     "execution_count": 21,
     "metadata": {},
     "output_type": "execute_result"
    }
   ],
   "source": [
    "strokes[:5], derivatives[:5]"
   ]
  },
  {
   "cell_type": "code",
   "execution_count": null,
   "id": "e737d6e1-0a7d-42e4-bbe3-bd73f51e3652",
   "metadata": {},
   "outputs": [],
   "source": []
  }
 ],
 "metadata": {
  "kernelspec": {
   "display_name": "Python 3 (ipykernel)",
   "language": "python",
   "name": "python3"
  },
  "language_info": {
   "codemirror_mode": {
    "name": "ipython",
    "version": 3
   },
   "file_extension": ".py",
   "mimetype": "text/x-python",
   "name": "python",
   "nbconvert_exporter": "python",
   "pygments_lexer": "ipython3",
   "version": "3.11.7"
  }
 },
 "nbformat": 4,
 "nbformat_minor": 5
}
